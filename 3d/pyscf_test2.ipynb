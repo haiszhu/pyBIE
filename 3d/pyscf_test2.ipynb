{
 "cells": [
  {
   "cell_type": "code",
   "execution_count": null,
   "metadata": {},
   "outputs": [],
   "source": [
    "# install pyscf\n",
    "# will simplify setup later...\n",
    "import numpy\n",
    "import matplotlib.pyplot as plt\n",
    "from mpl_toolkits.mplot3d import Axes3D\n",
    "from pyscf import gto\n",
    "from scipy.io import savemat\n",
    "from utils.buildBreadthFirst3d import buildBreadthFirst3d\n",
    "from utils.plot3dtree import plot3dtree\n",
    "from utils.cheby import cheby\n",
    "from utils.vals2coeffs3d import vals2coeffs3d\n",
    "from utils.ischeckResolved import ischeckResolved3d\n",
    "\n",
    "# basis\n",
    "mol_h2o = gto.M(\n",
    "    verbose = 0,\n",
    "    atom = '''\n",
    "    o    0    0.       0.\n",
    "    h    0    -0.757   0.587\n",
    "    h    0    0.757    0.587''',\n",
    "    # basis = 'ccpvdz')    \n",
    "    basis = 'ccpvtz')\n",
    "\n",
    "dom = numpy.array([-5, 5, -5, 5, -5, 5])\n",
    "tol = 1.0e-4\n",
    "p = 8\n",
    "checkpts = numpy.array([[ 0,    0.,       0.],\n",
    "                        [ 0,   -0.757,    0.587],\n",
    "                        [ 0,    0.757,    0.587]])\n",
    "ifcoeffs = True\n",
    "nd1 = 58 # ccpvtz\n"
   ]
  },
  {
   "cell_type": "code",
   "execution_count": null,
   "metadata": {},
   "outputs": [],
   "source": [
    "# if want to resolve all N_orb**2 basis\n",
    "nd = nd1**2\n",
    "def pyscffunc_all(x, y, z, mol):\n",
    "  valstmp = numpy.array(mol.eval_gto('GTOval_sph',numpy.column_stack([x.flatten(),y.flatten(),z.flatten()])))\n",
    "  nrows, ncols = valstmp.shape\n",
    "  vals = numpy.zeros((nrows, ncols**2))\n",
    "  for j in range(ncols):\n",
    "    for k in range(ncols):\n",
    "      vals[:, j*ncols+k] = valstmp[:, j] * valstmp[:, k]\n",
    "  return vals\n",
    "func_all = lambda x, y, z: pyscffunc_all(x, y, z, mol_h2o) # compute func2 on tree3\n",
    "func = func_all\n"
   ]
  },
  {
   "cell_type": "code",
   "execution_count": null,
   "metadata": {},
   "outputs": [],
   "source": [
    "# if want to resolve 1 proxy func\n",
    "nd = 1\n",
    "def pyscffunc_proxy(x, y, z, mol):\n",
    "  valstmp = numpy.array(mol.eval_gto('GTOval_sph',numpy.column_stack([x.flatten(),y.flatten(),z.flatten()])))\n",
    "  nrows, ncols = valstmp.shape\n",
    "  vals = numpy.zeros((nrows))\n",
    "  for j in range(ncols):\n",
    "    vals = vals + valstmp[:, j]**2\n",
    "  return vals\n",
    "func_proxy = lambda x, y, z: pyscffunc_proxy(x, y, z, mol_h2o)\n",
    "func = func_proxy\n"
   ]
  },
  {
   "cell_type": "code",
   "execution_count": null,
   "metadata": {},
   "outputs": [],
   "source": [
    "# build tree for func, will move initialization to utils\n",
    "tree3_h2o = {\n",
    "    'domain': dom.reshape(-1,1), \n",
    "    'tol': tol,\n",
    "    'nSteps': 15,\n",
    "    'n': p,\n",
    "    'checkpts': checkpts.transpose(),\n",
    "    'ifcoeffs': ifcoeffs                           \n",
    "  }\n",
    "numpts = 51 # this needs to be consistent with the resolution in plot3dtree.m\n",
    "tree3_h2o, rint = buildBreadthFirst3d(tree3_h2o, func)\n",
    "xx, yy, zz = numpy.meshgrid(numpy.linspace(dom[0],dom[1],numpts),numpy.linspace(dom[2],dom[3],numpts),numpy.linspace(dom[4],dom[5],numpts),indexing='ij')\n",
    "v3 = func(xx.flatten(),yy.flatten(),zz.flatten())\n",
    "savemat('tree3.mat', {'nd': nd, 'numpts': numpts, 'v': v3, 'xx': xx, 'yy': yy, 'zz': zz, 'rint': rint, 'fdomain': tree3_h2o['domain'], 'fn': tree3_h2o['n'], 'flevel': tree3_h2o['level'], 'fchildren': tree3_h2o['children'], 'fheight': tree3_h2o['height'], 'fid': tree3_h2o['id'], 'frint': tree3_h2o['rint'], 'ftol': tree3_h2o['tol'], 'fcheckpts': tree3_h2o['checkpts']})\n"
   ]
  },
  {
   "cell_type": "code",
   "execution_count": null,
   "metadata": {},
   "outputs": [],
   "source": [
    "# check error: nd1**2 num of basis to check...\n",
    "checkfunc = lambda x, y, z: pyscffunc_all(x, y, z, mol_h2o) # compute func2 on tree3\n",
    "# tree3_h2o['ifcoeffs'] = False\n",
    "tree3_h2o['ifcoeffs'] = ifcoeffs\n",
    "tree3_h2o, checkerror = ischeckResolved3d(tree3_h2o, checkfunc, nd1**2)\n",
    "savemat('tree_error.mat', {'tol': tree3_h2o['tol'], 'fcheckerror': tree3_h2o['checkerror'],'fheight': tree3_h2o['height'],'checkerror': checkerror})\n",
    "numpy.max(checkerror)"
   ]
  }
 ],
 "metadata": {
  "kernelspec": {
   "display_name": "Python 3",
   "language": "python",
   "name": "python3"
  },
  "language_info": {
   "codemirror_mode": {
    "name": "ipython",
    "version": 3
   },
   "file_extension": ".py",
   "mimetype": "text/x-python",
   "name": "python",
   "nbconvert_exporter": "python",
   "pygments_lexer": "ipython3",
   "version": "3.9.13"
  }
 },
 "nbformat": 4,
 "nbformat_minor": 2
}
