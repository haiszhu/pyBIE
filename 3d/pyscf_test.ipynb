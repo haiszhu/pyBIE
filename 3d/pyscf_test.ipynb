{
 "cells": [
  {
   "cell_type": "code",
   "execution_count": 2,
   "metadata": {},
   "outputs": [],
   "source": [
    "# install pyscf\n",
    "import numpy\n",
    "import matplotlib.pyplot as plt\n",
    "from mpl_toolkits.mplot3d import Axes3D\n",
    "from pyscf import gto\n",
    "from scipy.io import savemat\n",
    "from utils.buildBreadthFirst3d import buildBreadthFirst3d\n",
    "\n",
    "# basis\n",
    "mol = gto.M(\n",
    "    verbose = 0,\n",
    "    atom = '''\n",
    "    o    0    0.       0.\n",
    "    h    0    -0.757   0.587\n",
    "    h    0    0.757    0.587''',\n",
    "    basis = '6-31g')\n",
    "\n",
    "nd = 13\n",
    "func = lambda x, y, z: numpy.array(mol.eval_gto('GTOval_sph',numpy.column_stack([x.flatten(),y.flatten(),z.flatten()])))\n",
    "\n",
    "# nd = 4\n",
    "# func = lambda x, y, z: numpy.array([ numpy.exp(-(x**2 + y**2 + z**2) * 5), \\\n",
    "#                                      numpy.exp(-((x - 1/2)**2 + (y - 1/3)**2 + (z - 3/5)**2) * 10), \\\n",
    "#                                      numpy.exp(-((x + 1/2)**2 + (y + 1/3)**2 + (z + 3/5)**2) * 20), \\\n",
    "#                                      numpy.exp(-((x + 1/4)**2 + (y - 1/5)**2 + (z - 4/5)**2) * 2)]).reshape(nd,-1).transpose()\n",
    "\n",
    "# initialize tree parameters\n",
    "dom = numpy.array([[-5], [5], [-5], [5], [-5], [5]])\n",
    "f = {\n",
    "    'domain': dom, \n",
    "    'tol': 1.0e-4,\n",
    "    'nSteps': 15,\n",
    "    'level': numpy.array([0]),\n",
    "    'height': numpy.array([0]),\n",
    "    'id': numpy.array([0]), # \n",
    "    'parent': numpy.array([0]),\n",
    "    'children': numpy.zeros((8,1)), \n",
    "    'coeffs': [],\n",
    "    'col': numpy.array([0]),\n",
    "    'row': numpy.array([0]),\n",
    "    'n': 8,\n",
    "    'checkpts': numpy.array([[0,    0,     0],\n",
    "                             [0, -0.757, 0.757],\n",
    "                             [0,  0.587, 0.587]]),\n",
    "    'rint': numpy.array([[] for k in range(nd)]),\n",
    "    'vmax': numpy.array([[] for k in range(nd)])                         \n",
    "  }\n",
    "\n",
    "\n",
    "f, rint = buildBreadthFirst3d(f, func)\n",
    "\n",
    "# compute basis for plotting\n",
    "numpts = 51 # this needs to be consistent with the resolution in plot3dtree.m\n",
    "xx, yy, zz = numpy.meshgrid(numpy.linspace(dom[0,0],dom[1,0],numpts),numpy.linspace(dom[2,0],dom[3,0],numpts),numpy.linspace(dom[4,0],dom[5,0],numpts),indexing='ij')\n",
    "v = func(xx.flatten(),yy.flatten(),zz.flatten())\n",
    "\n",
    "savemat('pyscf_test.mat', {'numpts': numpts, 'v': v, 'xx': xx, 'yy': yy, 'zz': zz, 'rint': rint, 'fdomain': f['domain'], 'flevel': f['level'], 'fchildren': f['children'], 'fheight': f['height'], 'fid': f['id'], 'frint': f['rint'], 'ftol': f['tol'], 'fcheckpts': f['checkpts']})"
   ]
  },
  {
   "cell_type": "code",
   "execution_count": null,
   "metadata": {},
   "outputs": [],
   "source": []
  }
 ],
 "metadata": {
  "kernelspec": {
   "display_name": "Python 3",
   "language": "python",
   "name": "python3"
  },
  "language_info": {
   "codemirror_mode": {
    "name": "ipython",
    "version": 3
   },
   "file_extension": ".py",
   "mimetype": "text/x-python",
   "name": "python",
   "nbconvert_exporter": "python",
   "pygments_lexer": "ipython3",
   "version": "3.9.13"
  }
 },
 "nbformat": 4,
 "nbformat_minor": 2
}
